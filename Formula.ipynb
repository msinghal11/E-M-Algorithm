{
 "cells": [
  {
   "cell_type": "markdown",
   "metadata": {},
   "source": [
    "Credit: Dr. Rasmus Nielsen, UC Berkeley Department of Integrative Biology"
   ]
  },
  {
   "cell_type": "markdown",
   "metadata": {},
   "source": [
    "\n",
    "The following is a formulation of E-M Algorithm that we are implementing.:<br>\n",
    "Let $x$ be a sequencing read.<br>\n",
    "$p(s_x = i)$ = probability that sequencing read belongs to species i<br>\n",
    "\n",
    "$\\pi_i^{j+1} = \\frac{\\sum_{x = 1}^{n} p(s_x = i)\\pi_i^j}{\\sum_{l = 1}^{n}\\sum_{x = 1}^{n} p(s_x = l)\\pi_l^j}$\n",
    "\n",
    "__Numerator__: Summing over columns (species)<br>\n",
    "__Denominator__: Summing over sequences, then summing over species. \n"
   ]
  },
  {
   "cell_type": "markdown",
   "metadata": {},
   "source": [
    "The initial value we use for $\\pi_0$ is: \n",
    "\n",
    "$\\pi_0 = \\frac{\\sum_{x = 1}^{n} p(s_x = i)}{\\sum_{l = 1}^{n}\\sum_{x = 1}^{n} p(s_x = l)}$\n",
    "\n",
    "__Numerator__: Sum of probabilities that sequencing read x = i over all reads. <br>\n",
    "__Denominator__: sum of probabilities that sequencing read x = l over all species."
   ]
  },
  {
   "cell_type": "code",
   "execution_count": null,
   "metadata": {},
   "outputs": [],
   "source": []
  }
 ],
 "metadata": {
  "kernelspec": {
   "display_name": "Python 3",
   "language": "python",
   "name": "python3"
  },
  "language_info": {
   "codemirror_mode": {
    "name": "ipython",
    "version": 3
   },
   "file_extension": ".py",
   "mimetype": "text/x-python",
   "name": "python",
   "nbconvert_exporter": "python",
   "pygments_lexer": "ipython3",
   "version": "3.8.1"
  }
 },
 "nbformat": 4,
 "nbformat_minor": 4
}
