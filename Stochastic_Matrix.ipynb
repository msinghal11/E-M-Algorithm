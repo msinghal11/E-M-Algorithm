{
 "cells": [
  {
   "cell_type": "code",
   "execution_count": 9,
   "metadata": {},
   "outputs": [
    {
     "data": {
      "text/plain": [
       "matrix([[0.4034459 , 0.28424562, 0.33478084, 0.55784055, 0.70933031],\n",
       "        [0.19288153, 0.50583851, 0.65251513, 0.90079335, 0.34502178],\n",
       "        [0.47772464, 0.83564736, 0.67343308, 0.31499863, 0.99563249]])"
      ]
     },
     "execution_count": 9,
     "metadata": {},
     "output_type": "execute_result"
    }
   ],
   "source": [
    "import numpy as np\n",
    "randmatrix = np.matrix(np.random.random((3,5)))\n",
    "#col1 = randmatrix[:, [1,]]\n",
    "randmatrix\n"
   ]
  },
  {
   "cell_type": "code",
   "execution_count": 11,
   "metadata": {},
   "outputs": [
    {
     "data": {
      "text/plain": [
       "matrix([[0.4034459 ],\n",
       "        [0.19288153],\n",
       "        [0.47772464]])"
      ]
     },
     "execution_count": 11,
     "metadata": {},
     "output_type": "execute_result"
    }
   ],
   "source": [
    "col0 = randmatrix[:, [0,]]\n",
    "col0"
   ]
  },
  {
   "cell_type": "code",
   "execution_count": 18,
   "metadata": {},
   "outputs": [
    {
     "data": {
      "text/plain": [
       "0.2842456243547169"
      ]
     },
     "execution_count": 18,
     "metadata": {},
     "output_type": "execute_result"
    }
   ],
   "source": [
    "row0 = randmatrix[0]\n",
    "randmatrix[0,1]"
   ]
  },
  {
   "cell_type": "code",
   "execution_count": 177,
   "metadata": {},
   "outputs": [
    {
     "data": {
      "text/plain": [
       "array([0.1762047 , 0.12414407, 0.14621528, 0.24363645, 0.30979949])"
      ]
     },
     "execution_count": 177,
     "metadata": {},
     "output_type": "execute_result"
    }
   ],
   "source": [
    "d = []\n",
    "for i in range(randmatrix.shape[1]):\n",
    "    d.append(randmatrix[0,i])\n",
    "sum(d)\n",
    "d = d/sum(d)\n",
    "d\n",
    "#sum(d)"
   ]
  },
  {
   "cell_type": "code",
   "execution_count": 178,
   "metadata": {},
   "outputs": [
    {
     "data": {
      "text/plain": [
       "array([0.1762047 , 0.12414407, 0.14621528, 0.24363645, 0.30979949])"
      ]
     },
     "execution_count": 178,
     "metadata": {},
     "output_type": "execute_result"
    }
   ],
   "source": [
    "def stoma(randmatrix):\n",
    "    final = []\n",
    "    d = []\n",
    "    for i in range(randmatrix.shape[1]):\n",
    "        d.append(randmatrix[0,i])\n",
    "    sum(d)\n",
    "    d = d/sum(d)\n",
    "    d\n",
    "    return(d)\n",
    "stoma(randmatrix)"
   ]
  },
  {
   "cell_type": "code",
   "execution_count": 235,
   "metadata": {},
   "outputs": [
    {
     "data": {
      "text/plain": [
       "[[0.9560138741365427,\n",
       "  0.009919239975752335,\n",
       "  0.014701517175389683,\n",
       "  0.004515101664980619,\n",
       "  0.014850267047334663],\n",
       " [0.019416125236113267,\n",
       "  0.9577457449952516,\n",
       "  0.0005844199156102725,\n",
       "  0.003559079417395432,\n",
       "  0.01869463043562954],\n",
       " [0.0038807079159142257,\n",
       "  0.007442980603910128,\n",
       "  0.959627138695936,\n",
       "  0.009997931489113343,\n",
       "  0.0190512412951264]]"
      ]
     },
     "execution_count": 235,
     "metadata": {},
     "output_type": "execute_result"
    }
   ],
   "source": [
    "import random\n",
    "k = 5\n",
    "m = 3\n",
    "result = [[random.uniform(0, 0.1 / k) for i in range(k)] for j in range(m)]\n",
    "for j, r in enumerate(result):\n",
    "    r[j] += 1 - sum(r)\n",
    "result"
   ]
  },
  {
   "cell_type": "code",
   "execution_count": 228,
   "metadata": {},
   "outputs": [
    {
     "data": {
      "text/plain": [
       "[[3, 2, 2, 2, 2], [0, 0, 0, 0, 0], [0, 0, 0, 0, 0]]"
      ]
     },
     "execution_count": 228,
     "metadata": {},
     "output_type": "execute_result"
    }
   ],
   "source": [
    "stomatrix = [ [ 0 for i in range(randmatrix.shape[1]) ] for j in range(randmatrix.shape[0]) ]\n",
    "stomatrix[:1] = [[3,2,2,2,2]]\n",
    "stomatrix"
   ]
  },
  {
   "cell_type": "code",
   "execution_count": 221,
   "metadata": {},
   "outputs": [
    {
     "data": {
      "text/plain": [
       "2.597050301011935"
      ]
     },
     "execution_count": 221,
     "metadata": {},
     "output_type": "execute_result"
    }
   ],
   "source": [
    "#matrix = lambda i : randmatrix[i,]/sum(np.array(randmatrix[i,])[0])\n",
    "#randmatrix = matrix(range(randmatrix.shape[0]))\n",
    "#randmatrix \n",
    "#probmatrix\n",
    "\n",
    "sum(np.array(randmatrix[1,])[0])\n",
    "\n",
    "\n",
    "#sum(np.array(matrix[0,])[0])\n",
    "#randmatrix[0,]/sum(np.array(randmatrix[0,])[0])"
   ]
  },
  {
   "cell_type": "code",
   "execution_count": null,
   "metadata": {},
   "outputs": [],
   "source": []
  },
  {
   "cell_type": "code",
   "execution_count": null,
   "metadata": {},
   "outputs": [],
   "source": []
  }
 ],
 "metadata": {
  "kernelspec": {
   "display_name": "Python 3",
   "language": "python",
   "name": "python3"
  },
  "language_info": {
   "codemirror_mode": {
    "name": "ipython",
    "version": 3
   },
   "file_extension": ".py",
   "mimetype": "text/x-python",
   "name": "python",
   "nbconvert_exporter": "python",
   "pygments_lexer": "ipython3",
   "version": "3.8.1"
  }
 },
 "nbformat": 4,
 "nbformat_minor": 2
}
