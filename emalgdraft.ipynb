{
 "cells": [
  {
   "cell_type": "code",
   "execution_count": 2,
   "metadata": {},
   "outputs": [
    {
     "data": {
      "text/plain": [
       "matrix([[0.8143462 , 0.87523908, 0.66584962, 0.96872986, 0.59746031],\n",
       "        [0.08568318, 0.61945952, 0.10095611, 0.51564711, 0.62169618],\n",
       "        [0.62463139, 0.49973671, 0.86187956, 0.97189298, 0.11750252]])"
      ]
     },
     "execution_count": 2,
     "metadata": {},
     "output_type": "execute_result"
    }
   ],
   "source": [
    "import numpy as np\n",
    "randmatrix = np.matrix(np.random.random((3,5)))\n",
    "#col1 = randmatrix[:, [1,]]\n",
    "randmatrix\n"
   ]
  },
  {
   "cell_type": "code",
   "execution_count": 3,
   "metadata": {},
   "outputs": [
    {
     "data": {
      "text/plain": [
       "array([[0.94856428, 0.00158869, 0.0182587 , 0.01541449, 0.01617385],\n",
       "       [0.00520297, 0.96033356, 0.01203302, 0.00491031, 0.01752013],\n",
       "       [0.00526501, 0.01331685, 0.97414425, 0.0033251 , 0.00394879]])"
      ]
     },
     "execution_count": 3,
     "metadata": {},
     "output_type": "execute_result"
    }
   ],
   "source": [
    "#Creates a random probability matrix\n",
    "import random\n",
    "k = 5\n",
    "m = 3\n",
    "randmatrix = [[random.uniform(0, 0.1 / k) for i in range(k)] for j in range(m)]\n",
    "for j, r in enumerate(randmatrix):\n",
    "    r[j] += 1 - sum(r)\n",
    "randmatrix = np.array(randmatrix)\n",
    "randmatrix"
   ]
  },
  {
   "cell_type": "code",
   "execution_count": 4,
   "metadata": {},
   "outputs": [],
   "source": [
    "#sums all probablilities that read x_i is belongs to species i for initial input\n",
    "#s is an integer value, which represents the index of the species column of interest\n",
    "def numinput0(randmatrix,s):\n",
    "    col1 = randmatrix[:, [s,]]\n",
    "    newsum = sum(col1)\n",
    "    save = newsum[0]\n",
    "    return save\n",
    "    \n"
   ]
  },
  {
   "cell_type": "code",
   "execution_count": 5,
   "metadata": {},
   "outputs": [],
   "source": [
    "#randmatrix = a matrix of random values between 0 and 1\n",
    "#l <= column index of species of interest in probability matrix\n",
    "def deninput0(randmatrix,l): #sums all columns starting from zeroth index to the lth index\n",
    "    #cols = randmatrix[:, [0,l]]\n",
    "    newarray = []\n",
    "    j = 0\n",
    "    while j < l:\n",
    "        sumcol = sum(randmatrix[:, [j,]]) #sums each element in the col\n",
    "        newarray.append(sumcol[0])\n",
    "        j = j + 1\n",
    "        finalsum = sum(newarray)\n",
    "    return finalsum\n",
    "    "
   ]
  },
  {
   "cell_type": "markdown",
   "metadata": {},
   "source": [
    "#pi_i0 = quotient between numinput0()/deninput0() for some designated parameters."
   ]
  },
  {
   "cell_type": "code",
   "execution_count": 6,
   "metadata": {},
   "outputs": [],
   "source": [
    "#sums all probablilities that read x_i that belongs to species i where each probability is also multiplied by the estimate\n",
    "#i = index of species to keep track, usially start at 0th species \n",
    "#est is from j-1st iteration or in the first iteration, the initial value\n",
    "def numiter(randmatrix,i,est):  #in actual code, est = pi_inum\n",
    "    #cols = randmatrix[:, [0,l]]\n",
    "    newarray = []\n",
    "    j = 0 \n",
    "    bound = (randmatrix.shape[0])\n",
    "    while j < bound:\n",
    "        \n",
    "        element = randmatrix[j, [i,]]*est\n",
    "        newarray.append(element[0]) \n",
    "        j = j + 1\n",
    "        finalsum = sum(newarray)\n",
    "    return(finalsum)"
   ]
  },
  {
   "cell_type": "code",
   "execution_count": 7,
   "metadata": {},
   "outputs": [],
   "source": [
    "def deniter(randmatrix,l,estl):\n",
    "    sumcols = []\n",
    "    while l >= 0:\n",
    "        element = numiter(randmatrix,l,estl) #in actual code, est1 = pi_iden\n",
    "        sumcols.append(element)\n",
    "        l -= 1\n",
    "    return sum(sumcols)\n",
    "\n",
    "\n",
    "#write an error message for acceptable values for l (must be between [0,number of cols -1])"
   ]
  },
  {
   "cell_type": "markdown",
   "metadata": {},
   "source": [
    "The next step would be to re-assign values of pi_iden and pi_inum in terms of deniter and numiter and continue iterating until the sum of differences between the last iteration and the pi vector(probabilities of different species) is less than a given epsilon."
   ]
  },
  {
   "cell_type": "code",
   "execution_count": 9,
   "metadata": {},
   "outputs": [
    {
     "ename": "NameError",
     "evalue": "name 's' is not defined",
     "output_type": "error",
     "traceback": [
      "\u001b[1;31m---------------------------------------------------------------------------\u001b[0m",
      "\u001b[1;31mNameError\u001b[0m                                 Traceback (most recent call last)",
      "\u001b[1;32m<ipython-input-9-277fef0f891f>\u001b[0m in \u001b[0;36m<module>\u001b[1;34m\u001b[0m\n\u001b[1;32m----> 1\u001b[1;33m \u001b[0mpi_num0\u001b[0m \u001b[1;33m=\u001b[0m \u001b[0mnuminput0\u001b[0m\u001b[1;33m(\u001b[0m\u001b[0mrandmatrix\u001b[0m\u001b[1;33m,\u001b[0m\u001b[0ms\u001b[0m\u001b[1;33m)\u001b[0m\u001b[1;33m\u001b[0m\u001b[1;33m\u001b[0m\u001b[0m\n\u001b[0m\u001b[0;32m      2\u001b[0m \u001b[0mpi_den0\u001b[0m \u001b[1;33m=\u001b[0m \u001b[0mdeninput0\u001b[0m\u001b[1;33m(\u001b[0m\u001b[0mrandmatrix\u001b[0m\u001b[1;33m,\u001b[0m\u001b[0ml\u001b[0m\u001b[1;33m)\u001b[0m\u001b[1;33m\u001b[0m\u001b[1;33m\u001b[0m\u001b[0m\n\u001b[0;32m      3\u001b[0m \u001b[0mestimate\u001b[0m \u001b[1;33m=\u001b[0m \u001b[0mpi_num0\u001b[0m\u001b[1;33m/\u001b[0m\u001b[0mpi_den0\u001b[0m\u001b[1;33m\u001b[0m\u001b[1;33m\u001b[0m\u001b[0m\n\u001b[0;32m      4\u001b[0m \u001b[1;32mdef\u001b[0m \u001b[0mcompletealg\u001b[0m\u001b[1;33m(\u001b[0m\u001b[0mrandmatrix\u001b[0m\u001b[1;33m,\u001b[0m\u001b[0mepsilon\u001b[0m\u001b[1;33m,\u001b[0m\u001b[0mestimate\u001b[0m\u001b[1;33m,\u001b[0m\u001b[0mpi_num0\u001b[0m\u001b[1;33m,\u001b[0m\u001b[0mpi_den0\u001b[0m\u001b[1;33m)\u001b[0m\u001b[1;33m:\u001b[0m\u001b[1;33m\u001b[0m\u001b[1;33m\u001b[0m\u001b[0m\n\u001b[0;32m      5\u001b[0m     \u001b[1;32mfor\u001b[0m \u001b[0ml\u001b[0m \u001b[1;32min\u001b[0m  \u001b[0mrange\u001b[0m\u001b[1;33m(\u001b[0m\u001b[0mrandmatrix\u001b[0m\u001b[1;33m.\u001b[0m\u001b[0mshape\u001b[0m\u001b[1;33m[\u001b[0m\u001b[1;36m1\u001b[0m\u001b[1;33m]\u001b[0m\u001b[1;33m)\u001b[0m\u001b[1;33m:\u001b[0m\u001b[1;33m\u001b[0m\u001b[1;33m\u001b[0m\u001b[0m\n",
      "\u001b[1;31mNameError\u001b[0m: name 's' is not defined"
     ]
    }
   ],
   "source": [
    "#pi_num0 = numinput0(randmatrix,s)\n",
    "#pi_den0 = deninput0(randmatrix,l)\n",
    "estimate = pi_num0/pi_den0\n",
    "def completealg(randmatrix,epsilon,estimate,pi_num0,pi_den0):\n",
    "    for l in  range(randmatrix.shape[1]):\n",
    "        while estimate > epsilon:\n",
    "            pi_numest = numiter(randmatrix,l,pi_num0)\n",
    "            pi_denest = deniter(randmatrix,l,pi_den0)\n",
    "            estimate = pi_numest/pi_denest\n",
    "            pi_num0 = pi_numest\n",
    "            pi_den0 = pi_denest\n",
    "        return estimate"
   ]
  },
  {
   "cell_type": "code",
   "execution_count": null,
   "metadata": {},
   "outputs": [],
   "source": []
  },
  {
   "cell_type": "code",
   "execution_count": null,
   "metadata": {},
   "outputs": [],
   "source": []
  }
 ],
 "metadata": {
  "kernelspec": {
   "display_name": "Python 3",
   "language": "python",
   "name": "python3"
  },
  "language_info": {
   "codemirror_mode": {
    "name": "ipython",
    "version": 3
   },
   "file_extension": ".py",
   "mimetype": "text/x-python",
   "name": "python",
   "nbconvert_exporter": "python",
   "pygments_lexer": "ipython3",
   "version": "3.7.3"
  }
 },
 "nbformat": 4,
 "nbformat_minor": 2
}
