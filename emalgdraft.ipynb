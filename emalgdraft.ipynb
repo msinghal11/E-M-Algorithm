{
 "cells": [
  {
   "cell_type": "code",
   "execution_count": 10,
   "metadata": {},
   "outputs": [
    {
     "data": {
      "text/plain": [
       "matrix([[0.05084834, 0.24458462, 0.67357179, 0.19227149, 0.11117842],\n",
       "        [0.08752186, 0.80638779, 0.98811933, 0.18096259, 0.39710479],\n",
       "        [0.72673192, 0.24577592, 0.09302993, 0.1433051 , 0.09570845]])"
      ]
     },
     "execution_count": 10,
     "metadata": {},
     "output_type": "execute_result"
    }
   ],
   "source": [
    "import numpy as np\n",
    "randmatrix = np.matrix(np.random.random((3,5)))\n",
    "#col1 = randmatrix[:, [1,]]\n",
    "randmatrix\n"
   ]
  },
  {
   "cell_type": "code",
   "execution_count": 11,
   "metadata": {},
   "outputs": [
    {
     "data": {
      "text/plain": [
       "array([[0.94670627, 0.00437737, 0.01506241, 0.01791753, 0.01593642],\n",
       "       [0.00100936, 0.96284005, 0.00787701, 0.01258154, 0.01569204],\n",
       "       [0.01768088, 0.01866418, 0.94232547, 0.00313826, 0.01819121]])"
      ]
     },
     "execution_count": 11,
     "metadata": {},
     "output_type": "execute_result"
    }
   ],
   "source": [
    "#Creates a random probability matrix\n",
    "import random\n",
    "k = 5\n",
    "m = 3\n",
    "randmatrix = [[random.uniform(0, 0.1 / k) for i in range(k)] for j in range(m)]\n",
    "for j, r in enumerate(randmatrix):\n",
    "    r[j] += 1 - sum(r)\n",
    "randmatrix = np.array(randmatrix)\n",
    "randmatrix"
   ]
  },
  {
   "cell_type": "code",
   "execution_count": 19,
   "metadata": {},
   "outputs": [],
   "source": [
    "#sums all probablilities that read x_i is belongs to species i for initial input\n",
    "#s is an integer value, which represents the index of the species column of interest\n",
    "def numinput0(randmatrix,s):\n",
    "    col1 = randmatrix[:, [s,]]\n",
    "    newsum = sum(col1)\n",
    "    save = newsum[0]\n",
    "    return save\n",
    "    \n"
   ]
  },
  {
   "cell_type": "code",
   "execution_count": 20,
   "metadata": {},
   "outputs": [],
   "source": [
    "#randmatrix = a matrix of random values between 0 and 1\n",
    "#l <= column index of species of interest in probability matrix\n",
    "def deninput0(randmatrix,l): #sums all columns starting from zeroth index to the lth index\n",
    "    #cols = randmatrix[:, [0,l]]\n",
    "    newarray = []\n",
    "    j = 0\n",
    "    while j < l:\n",
    "        sumcol = sum(randmatrix[:, [j,]]) #sums each element in the col\n",
    "        newarray.append(sumcol[0])\n",
    "        j = j + 1\n",
    "        finalsum = sum(newarray)\n",
    "    return finalsum\n",
    "    "
   ]
  },
  {
   "cell_type": "markdown",
   "metadata": {},
   "source": [
    "#pi_i0 = quotient between numinput0()/deninput0() for some designated parameters."
   ]
  },
  {
   "cell_type": "code",
   "execution_count": 21,
   "metadata": {},
   "outputs": [],
   "source": [
    "#sums all probablilities that read x_i that belongs to species i where each probability is also multiplied by the estimate\n",
    "#i = index of species to keep track, usially start at 0th species \n",
    "#est is from j-1st iteration or in the first iteration, the initial value\n",
    "def numiter(randmatrix,i,est):  #in actual code, est = pi_inum\n",
    "    #cols = randmatrix[:, [0,l]]\n",
    "    newarray = []\n",
    "    j = 0 \n",
    "    bound = (randmatrix.shape[0])\n",
    "    while j < bound:\n",
    "        \n",
    "        element = randmatrix[j, [i,]]*est\n",
    "        newarray.append(element[0]) \n",
    "        j = j + 1\n",
    "        finalsum = sum(newarray)\n",
    "    return(finalsum)"
   ]
  },
  {
   "cell_type": "code",
   "execution_count": 22,
   "metadata": {},
   "outputs": [],
   "source": [
    "def deniter(randmatrix,l,estl):\n",
    "    sumcols = []\n",
    "    while l >= 0:\n",
    "        element = numiter(randmatrix,l,estl) #in actual code, est1 = pi_iden\n",
    "        sumcols.append(element)\n",
    "        l -= 1\n",
    "    return sum(sumcols)\n",
    "\n",
    "\n",
    "#write an error message for acceptable values for l (must be between [0,number of cols -1])"
   ]
  },
  {
   "cell_type": "markdown",
   "metadata": {},
   "source": [
    "The next step would be to re-assign values of pi_iden and pi_inum in terms of deniter and numiter and continue iterating until the sum of differences between the last iteration and the pi vector(probabilities of different species) is less than a given epsilon."
   ]
  },
  {
   "cell_type": "code",
   "execution_count": 23,
   "metadata": {},
   "outputs": [],
   "source": [
    "\n",
    "def completealg(randmatrix,epsilon,s,l):\n",
    "    pi_num0 = numinput0(randmatrix,s)\n",
    "    pi_den0 = deninput0(randmatrix,l)\n",
    "    estimate = pi_num0/pi_den0\n",
    "    for l in  range(randmatrix.shape[1]):\n",
    "        while estimate > epsilon:\n",
    "            pi_numest = numiter(randmatrix,l,pi_num0)\n",
    "            pi_denest = deniter(randmatrix,l,pi_den0)\n",
    "            estimate = pi_numest/pi_denest\n",
    "            pi_num0 = pi_numest\n",
    "            pi_den0 = pi_denest\n",
    "        return estimate"
   ]
  },
  {
   "cell_type": "code",
   "execution_count": 24,
   "metadata": {},
   "outputs": [
    {
     "data": {
      "text/plain": [
       "0.011212443737516758"
      ]
     },
     "execution_count": 24,
     "metadata": {},
     "output_type": "execute_result"
    }
   ],
   "source": [
    "completealg(randmatrix,0.07,3,5)"
   ]
  },
  {
   "cell_type": "code",
   "execution_count": null,
   "metadata": {},
   "outputs": [],
   "source": []
  },
  {
   "cell_type": "code",
   "execution_count": null,
   "metadata": {},
   "outputs": [],
   "source": []
  }
 ],
 "metadata": {
  "kernelspec": {
   "display_name": "Python 3",
   "language": "python",
   "name": "python3"
  },
  "language_info": {
   "codemirror_mode": {
    "name": "ipython",
    "version": 3
   },
   "file_extension": ".py",
   "mimetype": "text/x-python",
   "name": "python",
   "nbconvert_exporter": "python",
   "pygments_lexer": "ipython3",
   "version": "3.8.1"
  }
 },
 "nbformat": 4,
 "nbformat_minor": 2
}
