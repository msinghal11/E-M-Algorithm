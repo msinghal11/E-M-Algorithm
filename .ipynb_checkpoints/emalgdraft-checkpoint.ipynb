{
 "cells": [
  {
   "cell_type": "code",
   "execution_count": 1,
   "metadata": {},
   "outputs": [
    {
     "data": {
      "text/plain": [
       "matrix([[0.70241283, 0.6050956 , 0.25998348, 0.74339995, 0.95362617],\n",
       "        [0.05000331, 0.02340787, 0.73888265, 0.80279186, 0.18714089],\n",
       "        [0.79445869, 0.2105576 , 0.75190735, 0.69389572, 0.39011975]])"
      ]
     },
     "execution_count": 1,
     "metadata": {},
     "output_type": "execute_result"
    }
   ],
   "source": [
    "import numpy as np\n",
    "randmatrix = np.matrix(np.random.random((3,5)))\n",
    "#col1 = randmatrix[:, [1,]]\n",
    "randmatrix\n"
   ]
  },
  {
   "cell_type": "code",
   "execution_count": 2,
   "metadata": {},
   "outputs": [],
   "source": [
    "#sums all probablilities that read x_i is belongs to species i for initial input\n",
    "#s is an integer value, which represents the index of the species column of interest\n",
    "def numinput0(randmatrix,s):\n",
    "    col1 = randmatrix[:, [s,]]\n",
    "    newsum = sum(col1)\n",
    "    save = newsum[0,0]\n",
    "    return save\n",
    "    \n"
   ]
  },
  {
   "cell_type": "code",
   "execution_count": 3,
   "metadata": {},
   "outputs": [],
   "source": [
    "#randmatrix = a matrix of random values between 0 and 1\n",
    "#l <= column index of species of interest in probability matrix\n",
    "def deninput0(randmatrix,l): #sums all columns starting from zeroth index to the lth index\n",
    "    #cols = randmatrix[:, [0,l]]\n",
    "    newarray = []\n",
    "    j = 0\n",
    "    while j < l:\n",
    "        sumcol = sum(randmatrix[:, [j,]]) #sums each element in the col\n",
    "        newarray.append(sumcol[0,0])\n",
    "        j = j + 1\n",
    "        finalsum = sum(newarray)\n",
    "    return finalsum\n",
    "    "
   ]
  },
  {
   "cell_type": "markdown",
   "metadata": {},
   "source": [
    "#pi_i0 = quotient between numinput0()/deninput0() for some designated parameters."
   ]
  },
  {
   "cell_type": "code",
   "execution_count": 7,
   "metadata": {},
   "outputs": [],
   "source": [
    "#sums all probablilities that read x_i that belongs to species i where each probability is also multiplied by the estimate\n",
    "#i = index of species to keep track, usially start at 0th species \n",
    "#est is from j-1st iteration or in the first iteration, the initial value\n",
    "def numiter(randmatrix,i,est):  #in actual code, est = pi_inum\n",
    "    #cols = randmatrix[:, [0,l]]\n",
    "    newarray = []\n",
    "    j = 0 \n",
    "    bound = (randmatrix.shape[0])\n",
    "    while j < bound:\n",
    "        \n",
    "        element = randmatrix[j, [i,]]*est\n",
    "        newarray.append(element[0,0]) \n",
    "        j = j + 1\n",
    "        finalsum = sum(newarray)\n",
    "    return(finalsum)"
   ]
  },
  {
   "cell_type": "code",
   "execution_count": 8,
   "metadata": {},
   "outputs": [],
   "source": [
    "def deniter(randmatrix,l,estl):\n",
    "    sumcols = []\n",
    "    while l >= 0:\n",
    "        element = numiter(randmatrix,l,estl) #in actual code, est1 = pi_iden\n",
    "        sumcols.append(element)\n",
    "        l -= 1\n",
    "    return sum(sumcols)\n",
    "\n",
    "\n",
    "#write an error message for acceptable values for l (must be between [0,number of cols -1])"
   ]
  },
  {
   "cell_type": "markdown",
   "metadata": {},
   "source": [
    "The next step would be to re-assign values of pi_iden and pi_inum in terms of deniter and numiter and continue iterating until the sum of differences between the last iteration and the pi vector(probabilities of different species) is less than a given epsilon."
   ]
  },
  {
   "cell_type": "code",
   "execution_count": 10,
   "metadata": {},
   "outputs": [
    {
     "ename": "NameError",
     "evalue": "name 'pi_num0' is not defined",
     "output_type": "error",
     "traceback": [
      "\u001b[1;31m---------------------------------------------------------------------------\u001b[0m",
      "\u001b[1;31mNameError\u001b[0m                                 Traceback (most recent call last)",
      "\u001b[1;32m<ipython-input-10-d6ebb17d02b1>\u001b[0m in \u001b[0;36m<module>\u001b[1;34m\u001b[0m\n\u001b[1;32m----> 1\u001b[1;33m \u001b[0mestimate\u001b[0m \u001b[1;33m=\u001b[0m \u001b[0mpi_num0\u001b[0m\u001b[1;33m/\u001b[0m\u001b[0mpi_den0\u001b[0m\u001b[1;33m\u001b[0m\u001b[1;33m\u001b[0m\u001b[0m\n\u001b[0m\u001b[0;32m      2\u001b[0m \u001b[1;32mdef\u001b[0m \u001b[0mcompletealg\u001b[0m\u001b[1;33m(\u001b[0m\u001b[0mrandmatrix\u001b[0m\u001b[1;33m,\u001b[0m\u001b[0mepsilon\u001b[0m\u001b[1;33m,\u001b[0m\u001b[0mestimate\u001b[0m\u001b[1;33m,\u001b[0m\u001b[0mpi_num0\u001b[0m\u001b[1;33m,\u001b[0m\u001b[0mpi_den0\u001b[0m\u001b[1;33m)\u001b[0m\u001b[1;33m:\u001b[0m\u001b[1;33m\u001b[0m\u001b[1;33m\u001b[0m\u001b[0m\n\u001b[0;32m      3\u001b[0m     \u001b[1;32mfor\u001b[0m \u001b[0ml\u001b[0m \u001b[1;32min\u001b[0m  \u001b[0mrange\u001b[0m\u001b[1;33m(\u001b[0m\u001b[0mrandmatrix\u001b[0m\u001b[1;33m.\u001b[0m\u001b[0mshape\u001b[0m\u001b[1;33m[\u001b[0m\u001b[1;36m1\u001b[0m\u001b[1;33m]\u001b[0m\u001b[1;33m)\u001b[0m\u001b[1;33m:\u001b[0m\u001b[1;33m\u001b[0m\u001b[1;33m\u001b[0m\u001b[0m\n\u001b[0;32m      4\u001b[0m         \u001b[1;32mwhile\u001b[0m \u001b[0mestimate\u001b[0m \u001b[1;33m>\u001b[0m \u001b[0mepsilon\u001b[0m\u001b[1;33m:\u001b[0m\u001b[1;33m\u001b[0m\u001b[1;33m\u001b[0m\u001b[0m\n\u001b[0;32m      5\u001b[0m             \u001b[0mpi_numest\u001b[0m \u001b[1;33m=\u001b[0m \u001b[0mnumiter\u001b[0m\u001b[1;33m(\u001b[0m\u001b[0mrandmatrix\u001b[0m\u001b[1;33m,\u001b[0m\u001b[0ml\u001b[0m\u001b[1;33m,\u001b[0m\u001b[0mpi_num0\u001b[0m\u001b[1;33m)\u001b[0m\u001b[1;33m\u001b[0m\u001b[1;33m\u001b[0m\u001b[0m\n",
      "\u001b[1;31mNameError\u001b[0m: name 'pi_num0' is not defined"
     ]
    }
   ],
   "source": [
    "#pi_num0 = numinput0(randmatrix,s)\n",
    "#pi_den0 = deninput0(randmatrix,l)\n",
    "estimate = pi_num0/pi_den0\n",
    "def completealg(randmatrix,epsilon,estimate,pi_num0,pi_den0):\n",
    "    for l in  range(randmatrix.shape[1]):\n",
    "        while estimate > epsilon:\n",
    "            pi_numest = numiter(randmatrix,l,pi_num0)\n",
    "            pi_denest = deniter(randmatrix,l,pi_den0)\n",
    "            estimate = pi_numest/pi_denest\n",
    "            pi_num0 = pi_numest\n",
    "            pi_den0 = pi_denest\n",
    "        return estimate"
   ]
  },
  {
   "cell_type": "code",
   "execution_count": null,
   "metadata": {},
   "outputs": [],
   "source": []
  }
 ],
 "metadata": {
  "kernelspec": {
   "display_name": "Python 3",
   "language": "python",
   "name": "python3"
  },
  "language_info": {
   "codemirror_mode": {
    "name": "ipython",
    "version": 3
   },
   "file_extension": ".py",
   "mimetype": "text/x-python",
   "name": "python",
   "nbconvert_exporter": "python",
   "pygments_lexer": "ipython3",
   "version": "3.7.3"
  }
 },
 "nbformat": 4,
 "nbformat_minor": 2
}
