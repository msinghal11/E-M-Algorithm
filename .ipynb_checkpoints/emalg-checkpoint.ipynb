{
 "cells": [
  {
   "cell_type": "code",
   "execution_count": 1,
   "metadata": {},
   "outputs": [
    {
     "data": {
      "text/plain": [
       "3"
      ]
     },
     "execution_count": 1,
     "metadata": {},
     "output_type": "execute_result"
    }
   ],
   "source": [
    "newsum = 1 + 2\n",
    "newsum"
   ]
  },
  {
   "cell_type": "code",
   "execution_count": 23,
   "metadata": {},
   "outputs": [
    {
     "data": {
      "text/plain": [
       "matrix([[0.33784124, 0.57546399, 0.05210714, 0.11925037, 0.69163452],\n",
       "        [0.30907665, 0.23096926, 0.1632418 , 0.53932037, 0.35753124],\n",
       "        [0.13642201, 0.0610313 , 0.92697895, 0.87215608, 0.69269292]])"
      ]
     },
     "execution_count": 23,
     "metadata": {},
     "output_type": "execute_result"
    }
   ],
   "source": [
    "import numpy as np\n",
    "randmatrix = np.matrix(np.random.random((3,5)))\n",
    "#col1 = randmatrix[:, [1,]]\n",
    "randmatrix\n"
   ]
  },
  {
   "cell_type": "code",
   "execution_count": 282,
   "metadata": {},
   "outputs": [
    {
     "data": {
      "text/plain": [
       "matrix([[0.03624143, 0.16750997, 0.14020857, 0.30607627, 0.34996377],\n",
       "        [0.29034474, 0.12386746, 0.18597089, 0.17177736, 0.12420418],\n",
       "        [0.35408734, 0.09403967, 0.27535839, 0.09351581, 0.02235756]])"
      ]
     },
     "execution_count": 282,
     "metadata": {},
     "output_type": "execute_result"
    }
   ],
   "source": [
    "#matrix = lambda i : randmatrix[i,]/sum(np.array(randmatrix[i,])[0])\n",
    "randmatrix = matrix(range(randmatrix.shape[0]))\n",
    "randmatrix \n",
    "#probmatrix\n",
    "\n",
    "#sum(np.array(probmatrix[1,])[0])\n",
    "\n",
    "\n",
    "#sum(np.array(matrix[0,])[0])\n",
    "#randmatrix[0,]/sum(np.array(randmatrix[0,])[0])"
   ]
  },
  {
   "cell_type": "code",
   "execution_count": 88,
   "metadata": {},
   "outputs": [
    {
     "name": "stdout",
     "output_type": "stream",
     "text": [
      "(3, 5)\n",
      "3\n",
      "5\n",
      "3\n"
     ]
    }
   ],
   "source": [
    "dim = randmatrix.shape\n",
    "rows = dim[0]\n",
    "cols = dim[1]\n",
    "\n",
    "print(dim)\n",
    "print(rows)\n",
    "print(cols)\n",
    "print(randmatrix.shape[0])"
   ]
  },
  {
   "cell_type": "code",
   "execution_count": 89,
   "metadata": {},
   "outputs": [
    {
     "data": {
      "text/plain": [
       "array([9.69571373e-05])"
      ]
     },
     "execution_count": 89,
     "metadata": {},
     "output_type": "execute_result"
    }
   ],
   "source": [
    "element = randmatrix[1, [0,]]\n",
    "element"
   ]
  },
  {
   "cell_type": "code",
   "execution_count": 90,
   "metadata": {},
   "outputs": [
    {
     "data": {
      "text/plain": [
       "array([[9.67471450e-01],\n",
       "       [9.69571373e-05],\n",
       "       [7.03876933e-03]])"
      ]
     },
     "execution_count": 90,
     "metadata": {},
     "output_type": "execute_result"
    }
   ],
   "source": [
    "col1 = randmatrix[:, [0,]]\n",
    "col1\n"
   ]
  },
  {
   "cell_type": "code",
   "execution_count": 288,
   "metadata": {},
   "outputs": [
    {
     "data": {
      "text/plain": [
       "matrix([[0.16750997],\n",
       "        [0.12386746],\n",
       "        [0.09403967]])"
      ]
     },
     "execution_count": 288,
     "metadata": {},
     "output_type": "execute_result"
    }
   ],
   "source": [
    "col2 = randmatrix[:, [1,]]\n",
    "col2"
   ]
  },
  {
   "cell_type": "code",
   "execution_count": 289,
   "metadata": {},
   "outputs": [
    {
     "data": {
      "text/plain": [
       "[0.6806735062020355]"
      ]
     },
     "execution_count": 289,
     "metadata": {},
     "output_type": "execute_result"
    }
   ],
   "source": [
    "#sum(col1[:,[0,]])\n",
    "newray = []\n",
    "sumcol = sum(randmatrix[:, [0,]])\n",
    "sumcol[0,0]\n",
    "newray.append(sumcol[0,0])#no need to reinitialize\n",
    "newray\n",
    "#newray"
   ]
  },
  {
   "cell_type": "code",
   "execution_count": 290,
   "metadata": {},
   "outputs": [
    {
     "data": {
      "text/plain": [
       "0.6806735062020355"
      ]
     },
     "execution_count": 290,
     "metadata": {},
     "output_type": "execute_result"
    }
   ],
   "source": [
    "newsum = sum(col1)\n",
    "save = newsum[0,0]\n",
    "save"
   ]
  },
  {
   "cell_type": "markdown",
   "metadata": {},
   "source": [
    "----------------------------------------------------------------------------------------------------------------------"
   ]
  },
  {
   "cell_type": "code",
   "execution_count": 112,
   "metadata": {},
   "outputs": [
    {
     "data": {
      "text/plain": [
       "array([[0.96332402, 0.01281506, 0.01020881, 0.00453822, 0.00911389],\n",
       "       [0.00238106, 0.95596786, 0.01162715, 0.01616607, 0.01385785],\n",
       "       [0.00832465, 0.00642743, 0.95290139, 0.01492391, 0.01742263]])"
      ]
     },
     "execution_count": 112,
     "metadata": {},
     "output_type": "execute_result"
    }
   ],
   "source": [
    "#Creates a random probability matrix\n",
    "import numpy as np\n",
    "import random\n",
    "k = 5\n",
    "m = 3\n",
    "randmatrix = [[random.uniform(0, 0.1 / k) for i in range(k)] for j in range(m)]\n",
    "for j, r in enumerate(randmatrix):\n",
    "    r[j] += 1 - sum(r)\n",
    "randmatrix = np.array(randmatrix)\n",
    "randmatrix"
   ]
  },
  {
   "cell_type": "code",
   "execution_count": 113,
   "metadata": {},
   "outputs": [
    {
     "data": {
      "text/plain": [
       "array([0.01281506, 0.95596786, 0.00642743])"
      ]
     },
     "execution_count": 113,
     "metadata": {},
     "output_type": "execute_result"
    }
   ],
   "source": [
    "randmatrix[:,1]\n"
   ]
  },
  {
   "cell_type": "code",
   "execution_count": 114,
   "metadata": {},
   "outputs": [
    {
     "data": {
      "text/plain": [
       "0.9752103526371808"
      ]
     },
     "execution_count": 114,
     "metadata": {},
     "output_type": "execute_result"
    }
   ],
   "source": [
    "#sums all probablilities that read x_i is belongs to species i\n",
    "#s is an integer value\n",
    "def numinput0(randmatrix,s):\n",
    "    col1 = randmatrix[:, [s,]]\n",
    "    newsum = sum(col1)\n",
    "    save = newsum[0]\n",
    "    return save\n",
    "    \n",
    "numinput0(randmatrix,1)"
   ]
  },
  {
   "cell_type": "code",
   "execution_count": 115,
   "metadata": {},
   "outputs": [
    {
     "data": {
      "text/plain": [
       "1.9492400840211102"
      ]
     },
     "execution_count": 115,
     "metadata": {},
     "output_type": "execute_result"
    }
   ],
   "source": [
    "#l <= column index of species of interest in probability matrix\n",
    "def deninput0(randmatrix,l):\n",
    "    #cols = randmatrix[:, [0,l]]\n",
    "    newarray = []\n",
    "    j = 0\n",
    "    while j < l:\n",
    "        sumcol = sum(randmatrix[:, [j,]])\n",
    "        newarray.append(sumcol[0])\n",
    "        j = j + 1\n",
    "        finalsum = sum(newarray)\n",
    "    return finalsum\n",
    "    \n",
    "deninput0(randmatrix,2)#adjust l based on dimensions\n",
    "#randmatrix        "
   ]
  },
  {
   "cell_type": "code",
   "execution_count": 116,
   "metadata": {},
   "outputs": [],
   "source": [
    "pi_num0 = numinput0(randmatrix,0)\n",
    "pi_den0 = deninput0(randmatrix,2)#adjust l based on dimensions\n"
   ]
  },
  {
   "cell_type": "code",
   "execution_count": 117,
   "metadata": {},
   "outputs": [
    {
     "data": {
      "text/plain": [
       "0.4996971585842786"
      ]
     },
     "execution_count": 117,
     "metadata": {},
     "output_type": "execute_result"
    }
   ],
   "source": [
    "pi_i = pi_num0 / pi_den0\n",
    "pi_i"
   ]
  },
  {
   "cell_type": "code",
   "execution_count": null,
   "metadata": {},
   "outputs": [],
   "source": []
  },
  {
   "cell_type": "code",
   "execution_count": 118,
   "metadata": {},
   "outputs": [
    {
     "data": {
      "text/plain": [
       "0.19480594627678585"
      ]
     },
     "execution_count": 118,
     "metadata": {},
     "output_type": "execute_result"
    }
   ],
   "source": [
    "#sums all probablilities that read x_i that belongs to species i where each probability is also multiplied by the estimate\n",
    "#i = index of species to keep track, usially start at 0th species \n",
    "#est is from j-1st iteration\n",
    "def numiter(randmatrix,i,est):  #in actual code, est = pi_inum\n",
    "    #cols = randmatrix[:, [0,l]]\n",
    "    newarray = []\n",
    "    j = 0 \n",
    "    bound = (randmatrix.shape[0])\n",
    "    while j < bound:\n",
    "        \n",
    "        element = randmatrix[j, [i,]]*est\n",
    "        newarray.append(element[0]) \n",
    "        j = j + 1\n",
    "        finalsum = sum(newarray)\n",
    "    return(finalsum)\n",
    "    \n",
    " \n",
    "\n",
    "numiter(randmatrix,0,0.2) #for species 0\n",
    "       "
   ]
  },
  {
   "cell_type": "code",
   "execution_count": 119,
   "metadata": {},
   "outputs": [
    {
     "data": {
      "text/plain": [
       "0.19480594627678585"
      ]
     },
     "execution_count": 119,
     "metadata": {},
     "output_type": "execute_result"
    }
   ],
   "source": [
    "pi_inum = numiter(randmatrix,0,0.2) #adjust pi_inum for jth iteration\n",
    "pi_inum"
   ]
  },
  {
   "cell_type": "code",
   "execution_count": 121,
   "metadata": {},
   "outputs": [
    {
     "data": {
      "text/plain": [
       "0.5919211259539862"
      ]
     },
     "execution_count": 121,
     "metadata": {},
     "output_type": "execute_result"
    }
   ],
   "source": [
    "def deniter(randmatrix,l,estl):\n",
    "    sumcols = []\n",
    "    while l >= 0:\n",
    "        element = numiter(randmatrix,l,estl) #in actual code, est1 = pi_iden\n",
    "        sumcols.append(element)\n",
    "        l -= 1\n",
    "    return sum(sumcols)\n",
    "    \n",
    "    #c = numiter(randmatrix,l-0,0.2)\n",
    "    #b = numiter(randmatrix,l-1,0.2)\n",
    "    #a = numiter(randmatrix,l-2,0.2)\n",
    "    #return a + b + c\n",
    "deniter(randmatrix,3,0.2) #for species with index 4\n",
    "\n",
    "#write an error message for acceptable values for l (must be between [0,number of cols -1])"
   ]
  },
  {
   "cell_type": "code",
   "execution_count": 122,
   "metadata": {},
   "outputs": [
    {
     "data": {
      "text/plain": [
       "0.6000000000000001"
      ]
     },
     "execution_count": 122,
     "metadata": {},
     "output_type": "execute_result"
    }
   ],
   "source": [
    "pi_iden = deniter(randmatrix,4,0.2) #adjust pi_iden for jth iteration\n",
    "pi_iden"
   ]
  },
  {
   "cell_type": "code",
   "execution_count": 123,
   "metadata": {},
   "outputs": [
    {
     "data": {
      "text/plain": [
       "0.3246765771279764"
      ]
     },
     "execution_count": 123,
     "metadata": {},
     "output_type": "execute_result"
    }
   ],
   "source": [
    "pi_ij= pi_inum/pi_iden \n",
    "pi_ij"
   ]
  },
  {
   "cell_type": "code",
   "execution_count": 124,
   "metadata": {},
   "outputs": [
    {
     "data": {
      "text/plain": [
       "7.553666864496498e-06"
      ]
     },
     "execution_count": 124,
     "metadata": {},
     "output_type": "execute_result"
    }
   ],
   "source": [
    "pi_numest4 = numiter(randmatrix,4,pi_numest3)\n",
    "pi_denest4 = deniter(randmatrix,4,pi_denest3)\n",
    "estimate4 = pi_numest4/pi_denest4\n",
    "estimate4"
   ]
  },
  {
   "cell_type": "code",
   "execution_count": 125,
   "metadata": {},
   "outputs": [
    {
     "data": {
      "text/plain": [
       "0.0006690143995347743"
      ]
     },
     "execution_count": 125,
     "metadata": {},
     "output_type": "execute_result"
    }
   ],
   "source": [
    "pi_numest3 = numiter(randmatrix,3,pi_numest2)\n",
    "pi_denest3 = deniter(randmatrix,3,pi_denest2)\n",
    "estimate3 = pi_numest3/pi_denest3\n",
    "estimate3"
   ]
  },
  {
   "cell_type": "code",
   "execution_count": 126,
   "metadata": {},
   "outputs": [
    {
     "data": {
      "text/plain": [
       "0.054383375343744184"
      ]
     },
     "execution_count": 126,
     "metadata": {},
     "output_type": "execute_result"
    }
   ],
   "source": [
    "pi_numest2 = numiter(randmatrix,2,pi_numest1)\n",
    "pi_denest2 = deniter(randmatrix,2,pi_denest1)\n",
    "estimate2 = pi_numest2/pi_denest2\n",
    "estimate2"
   ]
  },
  {
   "cell_type": "code",
   "execution_count": 127,
   "metadata": {},
   "outputs": [
    {
     "data": {
      "text/plain": [
       "0.167711150401651"
      ]
     },
     "execution_count": 127,
     "metadata": {},
     "output_type": "execute_result"
    }
   ],
   "source": [
    "pi_numest1 = numiter(randmatrix,1,pi_numest0)\n",
    "pi_denest1 = deniter(randmatrix,1,pi_denest0)\n",
    "estimate1 = pi_numest1/pi_denest1\n",
    "estimate1"
   ]
  },
  {
   "cell_type": "code",
   "execution_count": 128,
   "metadata": {},
   "outputs": [
    {
     "data": {
      "text/plain": [
       "0.49969715858427866"
      ]
     },
     "execution_count": 128,
     "metadata": {},
     "output_type": "execute_result"
    }
   ],
   "source": [
    "pi_numest0 = numiter(randmatrix,0,pi_num0)\n",
    "pi_denest0 = deniter(randmatrix,0,pi_den0)\n",
    "estimate0 = pi_numest0/pi_denest0\n",
    "estimate0"
   ]
  },
  {
   "cell_type": "code",
   "execution_count": 129,
   "metadata": {},
   "outputs": [],
   "source": [
    "epsilon = 0.07"
   ]
  },
  {
   "cell_type": "code",
   "execution_count": 139,
   "metadata": {},
   "outputs": [],
   "source": [
    "#pi_numest = pi_num0\n",
    "#pi_denest = pi_den0\n",
    "estimatevector= []\n",
    "estimate = pi_num0/pi_den0\n",
    "def completealg(randmatrix,epsilon,estimate,pi_num0,pi_den0,probvector):\n",
    "    for l in  range(randmatrix.shape[1]):\n",
    "        while (estimate - probvector[l]) > epsilon:\n",
    "            pi_numest = numiter(randmatrix,l,pi_num0)\n",
    "            pi_denest = deniter(randmatrix,l,pi_den0)\n",
    "            estimate = pi_numest/pi_denest\n",
    "            pi_num0 = pi_numest\n",
    "            pi_den0 = pi_denest\n",
    "        estimatevector.append(estimate)\n",
    "    return estimatevector\n",
    "            #pi_num0 = pi_numest\n",
    "            #pi_den0 = pi_denest\n",
    "        \n",
    "    "
   ]
  },
  {
   "cell_type": "code",
   "execution_count": 140,
   "metadata": {},
   "outputs": [
    {
     "data": {
      "text/plain": [
       "1.9492400840211102"
      ]
     },
     "execution_count": 140,
     "metadata": {},
     "output_type": "execute_result"
    }
   ],
   "source": [
    "pi_den0"
   ]
  },
  {
   "cell_type": "code",
   "execution_count": 141,
   "metadata": {},
   "outputs": [
    {
     "ename": "KeyboardInterrupt",
     "evalue": "",
     "output_type": "error",
     "traceback": [
      "\u001b[1;31m---------------------------------------------------------------------------\u001b[0m",
      "\u001b[1;31mKeyboardInterrupt\u001b[0m                         Traceback (most recent call last)",
      "\u001b[1;32m<ipython-input-141-74bde8b5804c>\u001b[0m in \u001b[0;36m<module>\u001b[1;34m\u001b[0m\n\u001b[0;32m      1\u001b[0m \u001b[1;33m\u001b[0m\u001b[0m\n\u001b[0;32m      2\u001b[0m \u001b[0mestimate\u001b[0m \u001b[1;33m=\u001b[0m \u001b[0mpi_num0\u001b[0m\u001b[1;33m/\u001b[0m\u001b[0mpi_den0\u001b[0m\u001b[1;33m\u001b[0m\u001b[1;33m\u001b[0m\u001b[0m\n\u001b[1;32m----> 3\u001b[1;33m \u001b[0mcompletealg\u001b[0m\u001b[1;33m(\u001b[0m\u001b[0mrandmatrix\u001b[0m\u001b[1;33m,\u001b[0m\u001b[1;36m0.07\u001b[0m\u001b[1;33m,\u001b[0m\u001b[1;36m0.4996971585842786\u001b[0m\u001b[1;33m,\u001b[0m\u001b[1;36m0.9740297313839292\u001b[0m\u001b[1;33m,\u001b[0m\u001b[1;36m1.9492400840211102\u001b[0m\u001b[1;33m,\u001b[0m\u001b[1;33m[\u001b[0m\u001b[1;36m0.02\u001b[0m\u001b[1;33m,\u001b[0m\u001b[1;36m0.3\u001b[0m\u001b[1;33m,\u001b[0m\u001b[1;36m0.04\u001b[0m\u001b[1;33m,\u001b[0m\u001b[1;36m0.24\u001b[0m\u001b[1;33m,\u001b[0m\u001b[1;36m0.4\u001b[0m\u001b[1;33m]\u001b[0m\u001b[1;33m)\u001b[0m\u001b[1;33m\u001b[0m\u001b[1;33m\u001b[0m\u001b[0m\n\u001b[0m",
      "\u001b[1;32m<ipython-input-139-2f514856a536>\u001b[0m in \u001b[0;36mcompletealg\u001b[1;34m(randmatrix, epsilon, estimate, pi_num0, pi_den0, probvector)\u001b[0m\n\u001b[0;32m      7\u001b[0m         \u001b[1;32mwhile\u001b[0m \u001b[1;33m(\u001b[0m\u001b[0mestimate\u001b[0m \u001b[1;33m-\u001b[0m \u001b[0mprobvector\u001b[0m\u001b[1;33m[\u001b[0m\u001b[0ml\u001b[0m\u001b[1;33m]\u001b[0m\u001b[1;33m)\u001b[0m \u001b[1;33m>\u001b[0m \u001b[0mepsilon\u001b[0m\u001b[1;33m:\u001b[0m\u001b[1;33m\u001b[0m\u001b[1;33m\u001b[0m\u001b[0m\n\u001b[0;32m      8\u001b[0m             \u001b[0mpi_numest\u001b[0m \u001b[1;33m=\u001b[0m \u001b[0mnumiter\u001b[0m\u001b[1;33m(\u001b[0m\u001b[0mrandmatrix\u001b[0m\u001b[1;33m,\u001b[0m\u001b[0ml\u001b[0m\u001b[1;33m,\u001b[0m\u001b[0mpi_num0\u001b[0m\u001b[1;33m)\u001b[0m\u001b[1;33m\u001b[0m\u001b[1;33m\u001b[0m\u001b[0m\n\u001b[1;32m----> 9\u001b[1;33m             \u001b[0mpi_denest\u001b[0m \u001b[1;33m=\u001b[0m \u001b[0mdeniter\u001b[0m\u001b[1;33m(\u001b[0m\u001b[0mrandmatrix\u001b[0m\u001b[1;33m,\u001b[0m\u001b[0ml\u001b[0m\u001b[1;33m,\u001b[0m\u001b[0mpi_den0\u001b[0m\u001b[1;33m)\u001b[0m\u001b[1;33m\u001b[0m\u001b[1;33m\u001b[0m\u001b[0m\n\u001b[0m\u001b[0;32m     10\u001b[0m             \u001b[0mestimate\u001b[0m \u001b[1;33m=\u001b[0m \u001b[0mpi_numest\u001b[0m\u001b[1;33m/\u001b[0m\u001b[0mpi_denest\u001b[0m\u001b[1;33m\u001b[0m\u001b[1;33m\u001b[0m\u001b[0m\n\u001b[0;32m     11\u001b[0m             \u001b[0mpi_num0\u001b[0m \u001b[1;33m=\u001b[0m \u001b[0mpi_numest\u001b[0m\u001b[1;33m\u001b[0m\u001b[1;33m\u001b[0m\u001b[0m\n",
      "\u001b[1;32m<ipython-input-121-85480e1d925b>\u001b[0m in \u001b[0;36mdeniter\u001b[1;34m(randmatrix, l, estl)\u001b[0m\n\u001b[0;32m      2\u001b[0m     \u001b[0msumcols\u001b[0m \u001b[1;33m=\u001b[0m \u001b[1;33m[\u001b[0m\u001b[1;33m]\u001b[0m\u001b[1;33m\u001b[0m\u001b[1;33m\u001b[0m\u001b[0m\n\u001b[0;32m      3\u001b[0m     \u001b[1;32mwhile\u001b[0m \u001b[0ml\u001b[0m \u001b[1;33m>=\u001b[0m \u001b[1;36m0\u001b[0m\u001b[1;33m:\u001b[0m\u001b[1;33m\u001b[0m\u001b[1;33m\u001b[0m\u001b[0m\n\u001b[1;32m----> 4\u001b[1;33m         \u001b[0melement\u001b[0m \u001b[1;33m=\u001b[0m \u001b[0mnumiter\u001b[0m\u001b[1;33m(\u001b[0m\u001b[0mrandmatrix\u001b[0m\u001b[1;33m,\u001b[0m\u001b[0ml\u001b[0m\u001b[1;33m,\u001b[0m\u001b[0mestl\u001b[0m\u001b[1;33m)\u001b[0m \u001b[1;31m#in actual code, est1 = pi_iden\u001b[0m\u001b[1;33m\u001b[0m\u001b[1;33m\u001b[0m\u001b[0m\n\u001b[0m\u001b[0;32m      5\u001b[0m         \u001b[0msumcols\u001b[0m\u001b[1;33m.\u001b[0m\u001b[0mappend\u001b[0m\u001b[1;33m(\u001b[0m\u001b[0melement\u001b[0m\u001b[1;33m)\u001b[0m\u001b[1;33m\u001b[0m\u001b[1;33m\u001b[0m\u001b[0m\n\u001b[0;32m      6\u001b[0m         \u001b[0ml\u001b[0m \u001b[1;33m-=\u001b[0m \u001b[1;36m1\u001b[0m\u001b[1;33m\u001b[0m\u001b[1;33m\u001b[0m\u001b[0m\n",
      "\u001b[1;32m<ipython-input-118-9c6709980222>\u001b[0m in \u001b[0;36mnumiter\u001b[1;34m(randmatrix, i, est)\u001b[0m\n\u001b[0;32m      9\u001b[0m     \u001b[1;32mwhile\u001b[0m \u001b[0mj\u001b[0m \u001b[1;33m<\u001b[0m \u001b[0mbound\u001b[0m\u001b[1;33m:\u001b[0m\u001b[1;33m\u001b[0m\u001b[1;33m\u001b[0m\u001b[0m\n\u001b[0;32m     10\u001b[0m \u001b[1;33m\u001b[0m\u001b[0m\n\u001b[1;32m---> 11\u001b[1;33m         \u001b[0melement\u001b[0m \u001b[1;33m=\u001b[0m \u001b[0mrandmatrix\u001b[0m\u001b[1;33m[\u001b[0m\u001b[0mj\u001b[0m\u001b[1;33m,\u001b[0m \u001b[1;33m[\u001b[0m\u001b[0mi\u001b[0m\u001b[1;33m,\u001b[0m\u001b[1;33m]\u001b[0m\u001b[1;33m]\u001b[0m\u001b[1;33m*\u001b[0m\u001b[0mest\u001b[0m\u001b[1;33m\u001b[0m\u001b[1;33m\u001b[0m\u001b[0m\n\u001b[0m\u001b[0;32m     12\u001b[0m         \u001b[0mnewarray\u001b[0m\u001b[1;33m.\u001b[0m\u001b[0mappend\u001b[0m\u001b[1;33m(\u001b[0m\u001b[0melement\u001b[0m\u001b[1;33m[\u001b[0m\u001b[1;36m0\u001b[0m\u001b[1;33m]\u001b[0m\u001b[1;33m)\u001b[0m\u001b[1;33m\u001b[0m\u001b[1;33m\u001b[0m\u001b[0m\n\u001b[0;32m     13\u001b[0m         \u001b[0mj\u001b[0m \u001b[1;33m=\u001b[0m \u001b[0mj\u001b[0m \u001b[1;33m+\u001b[0m \u001b[1;36m1\u001b[0m\u001b[1;33m\u001b[0m\u001b[1;33m\u001b[0m\u001b[0m\n",
      "\u001b[1;31mKeyboardInterrupt\u001b[0m: "
     ]
    }
   ],
   "source": [
    "\n",
    "estimate = pi_num0/pi_den0\n",
    "completealg(randmatrix,0.07,0.4996971585842786,0.9740297313839292,1.9492400840211102,[0.02,0.3,0.04,0.24,0.4])"
   ]
  },
  {
   "cell_type": "code",
   "execution_count": null,
   "metadata": {},
   "outputs": [],
   "source": [
    "def dummy(randmatrix,epsilon,estimate,probvector):    \n",
    "    estimatevector\n",
    "    for l in len(probvector): #range(randmatrix.shape[1])\n",
    "        value = estimate - probvector[l]\n",
    "        while value < epsilon:\n",
    "            estimatevector.append(estimate)\n",
    "            print(estimatevector)\n",
    "    return estimatevector\n"
   ]
  },
  {
   "cell_type": "code",
   "execution_count": null,
   "metadata": {},
   "outputs": [],
   "source": [
    "dummy(randmatrix,0.07,0.0596971585842786,[0.02])"
   ]
  },
  {
   "cell_type": "code",
   "execution_count": null,
   "metadata": {},
   "outputs": [],
   "source": [
    "len([1,1,1,1,1])"
   ]
  },
  {
   "cell_type": "code",
   "execution_count": null,
   "metadata": {},
   "outputs": [],
   "source": []
  },
  {
   "cell_type": "code",
   "execution_count": null,
   "metadata": {},
   "outputs": [],
   "source": []
  }
 ],
 "metadata": {
  "kernelspec": {
   "display_name": "Python 3",
   "language": "python",
   "name": "python3"
  },
  "language_info": {
   "codemirror_mode": {
    "name": "ipython",
    "version": 3
   },
   "file_extension": ".py",
   "mimetype": "text/x-python",
   "name": "python",
   "nbconvert_exporter": "python",
   "pygments_lexer": "ipython3",
   "version": "3.7.3"
  }
 },
 "nbformat": 4,
 "nbformat_minor": 2
}
